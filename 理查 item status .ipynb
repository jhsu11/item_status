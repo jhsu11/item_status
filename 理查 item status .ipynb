{
 "cells": [
  {
   "cell_type": "code",
   "execution_count": 32,
   "id": "b0d745cb",
   "metadata": {},
   "outputs": [],
   "source": [
    "!pip install openpyxl\n",
    "!pip install requests\n",
    "!pip install selenium\n",
    "!pip install UserAgent"
   ]
  },
  {
   "cell_type": "code",
   "execution_count": 2,
   "id": "9415aff4",
   "metadata": {},
   "outputs": [],
   "source": [
    "import openpyxl\n",
    "import requests\n",
    "from selenium import webdriver\n",
    "from selenium.webdriver.chrome.options import Options\n",
    "from selenium.webdriver.common.by import By\n",
    "from selenium.webdriver.support.ui import WebDriverWait\n",
    "from selenium.webdriver.support import expected_conditions as EC\n",
    "\n",
    "chrome_driver_path = 'C:/path/to/chromedriver.exe'\n",
    "\n",
    "chrome_options = Options()\n",
    "#從此網址獲得該電腦的useragent並代換  (https://useragentstring.com/)\n",
    "user_agent = 'Mozilla/5.0 (Windows NT 10.0; Win64; x64) AppleWebKit/537.36 (KHTML, like Gecko) Chrome/111.0.0.0 Safari/537.36'\n",
    "\n",
    "wb = openpyxl.load_workbook('黑沃 hell.xlsx')\n",
    "\n",
    "for row in range(2, 7):\n",
    "    url = wb['工作表1'].cell(row=row, column=2).value\n",
    "    if url:\n",
    "# 設置 headers\n",
    "        headers = {\n",
    "        'User-Agent': user_agent\n",
    "        }\n",
    "        # 發送 GET 請求\n",
    "    response = requests.get(url, headers=headers)\n",
    "\n",
    "    # 打開瀏覽器，訪問網頁\n",
    "    service = webdriver.chrome.service.Service(executable_path=chrome_driver_path)\n",
    "    driver = webdriver.Chrome(service=service, options=chrome_options)\n",
    "    driver.get(url)\n",
    "\n",
    "    # 等待網頁載入並找item \n",
    "    wait = WebDriverWait(driver, 10)\n",
    "    wait.until(EC.presence_of_element_located((By.TAG_NAME, 'span')))\n",
    "\n",
    "    # 判斷特定文字(item name)是否出現在網頁中\n",
    "    \n",
    "    for col in range(3, 8):\n",
    "        target_text = wb['工作表1'].cell(row=1, column=col).value\n",
    "        if target_text:\n",
    "            if target_text in driver.page_source:\n",
    "                wb['工作表1'].cell(row=row, column=col).value = '有'\n",
    "            else:\n",
    "                wb['工作表1'].cell(row=row, column=col).value = '沒有'\n",
    "     # 關閉瀏覽器\n",
    "    driver.quit() \n",
    "wb.save('黑沃 final.xlsx')"
   ]
  },
  {
   "cell_type": "code",
   "execution_count": null,
   "id": "41a3b7c6",
   "metadata": {},
   "outputs": [],
   "source": []
  }
 ],
 "metadata": {
  "kernelspec": {
   "display_name": "Python 3 (ipykernel)",
   "language": "python",
   "name": "python3"
  },
  "language_info": {
   "codemirror_mode": {
    "name": "ipython",
    "version": 3
   },
   "file_extension": ".py",
   "mimetype": "text/x-python",
   "name": "python",
   "nbconvert_exporter": "python",
   "pygments_lexer": "ipython3",
   "version": "3.9.13"
  }
 },
 "nbformat": 4,
 "nbformat_minor": 5
}
