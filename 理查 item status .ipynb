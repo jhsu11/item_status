{
 "cells": [
  {
   "cell_type": "code",
   "execution_count": 32,
   "id": "b0d745cb",
   "metadata": {},
   "outputs": [],
   "source": [
    "!pip install openpyxl\n",
    "!pip install requests\n",
    "!pip install selenium\n",
    "!pip install UserAgent"
   ]
  },
  {
   "cell_type": "code",
   "execution_count": null,
   "id": "d9a4d857",
   "metadata": {},
   "outputs": [],
   "source": [
    "import openpyxl\n",
    "import requests\n",
    "from selenium import webdriver\n",
    "from selenium.webdriver.chrome.options import Options\n",
    "from selenium.webdriver.common.by import By\n",
    "from selenium.webdriver.support.ui import WebDriverWait\n",
    "from selenium.webdriver.support import expected_conditions as EC\n",
    "from fake_useragent import UserAgent\n",
    "\n",
    "# 設置ChromeDriver的路徑\n",
    "chrome_driver_path = 'C:/path/to/chromedriver.exe'\n",
    "\n",
    "# 設置ChromeDriver的選項\n",
    "chrome_options = Options()\n",
    "\n",
    "# 讀取Excel檔案\n",
    "wb = openpyxl.load_workbook('黑沃 hell.xlsx')\n",
    "\n",
    "# 依次查找B2到B6的網頁\n",
    "for row in range(2, 7):\n",
    "    url = wb['工作表1'].cell(row=row, column=2).value\n",
    "    if url:\n",
    "        # 隨機生成 User-Agent\n",
    "        ua = UserAgent()\n",
    "\n",
    "        # 設置 headers\n",
    "        headers = {\n",
    "            'User-Agent': ua.random\n",
    "        }\n",
    "\n",
    "        # 發送 GET 請求\n",
    "        response = requests.get(url, headers=headers)\n",
    "\n",
    "        # 打開瀏覽器，訪問網頁\n",
    "        service = webdriver.chrome.service.Service(executable_path=chrome_driver_path)\n",
    "        driver = webdriver.Chrome(service=service, options=chrome_options)\n",
    "        driver.get(url)\n",
    "\n",
    "        # 等待網頁載入並找item \n",
    "        wait = WebDriverWait(driver, 10)\n",
    "        wait.until(EC.presence_of_element_located((By.TAG_NAME, 'span')))\n",
    "\n",
    "        # 判斷特定文字(item name)是否出現在網頁中\n",
    "        \n",
    "        for col in range(3, 8):\n",
    "            target_text = wb['工作表1'].cell(row=1, column=col).value\n",
    "            if target_text:\n",
    "                if target_text in driver.page_source:\n",
    "                    wb['工作表1'].cell(row=row, column=col).value = '有'\n",
    "                else:\n",
    "                    wb['工作表1'].cell(row=row, column=col).value = '沒有'\n",
    "         # 關閉瀏覽器\n",
    "        driver.quit() \n",
    "\n",
    "# 保存Excel檔案\n",
    "wb.save('黑沃 final.xlsx')\n"
   ]
  },
  {
   "cell_type": "code",
   "execution_count": null,
   "id": "9415aff4",
   "metadata": {},
   "outputs": [],
   "source": []
  }
 ],
 "metadata": {
  "kernelspec": {
   "display_name": "Python 3 (ipykernel)",
   "language": "python",
   "name": "python3"
  },
  "language_info": {
   "codemirror_mode": {
    "name": "ipython",
    "version": 3
   },
   "file_extension": ".py",
   "mimetype": "text/x-python",
   "name": "python",
   "nbconvert_exporter": "python",
   "pygments_lexer": "ipython3",
   "version": "3.9.13"
  }
 },
 "nbformat": 4,
 "nbformat_minor": 5
}
